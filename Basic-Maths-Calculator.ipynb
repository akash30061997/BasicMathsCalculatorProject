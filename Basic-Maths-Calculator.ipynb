{
 "cells": [
  {
   "cell_type": "code",
   "execution_count": null,
   "id": "f7071fd3-c29e-4780-b229-6b0142481b57",
   "metadata": {},
   "outputs": [],
   "source": [
    "from colorama import Fore,Back,Style\n",
    "#WAP to print a calculator\n",
    "mtab1=\"\\n\"\n",
    "mtab2=\"\\n\\n\"\n",
    "mtab3=\"\\n\\n\\n\"\n",
    "mtab4=\"\\t\\t\\n\\n\\n\\n\"\n",
    "print(Fore.BLACK + Back.YELLOW + Style.BRIGHT)\n",
    "print(mtab4,\"Welcome to calculator\")\n",
    "print(mtab2,\"The calculator performs basic maths Operations\")\n",
    "print(mtab2,\"The Project is based on control statement concepts \")\n",
    "print(Style.RESET_ALL)\n",
    "\n",
    "def add(x,y):\n",
    "    return x+y\n",
    "def sub(x,y):\n",
    "    return x-y\n",
    "def mul(x,y):\n",
    "    return x*y\n",
    "def div(x,y):\n",
    "    return x/y\n",
    "\n",
    "print(\"\\nSelect Operation : \")\n",
    "print(\"1. Add\")\n",
    "print(\"2. Subtraction\")\n",
    "print(\"3. Multiplication\")\n",
    "print(\"4. Division\")\n",
    "\n",
    "while True:\n",
    "    choice = input(\"Enter a number (1/2/3/4) \" )\n",
    "    if choice in (\"1\",\"2\",\"3\",\"4\"):\n",
    "        try:\n",
    "            num1=int(input(\"Enter 1st number : \"))\n",
    "            num2=int(input(\"Enter 2nd number : \"))\n",
    "        except ValueError:\n",
    "            print(\"Enter a valid number \")\n",
    "        if choice==\"1\":\n",
    "            print(f\"The addition of {num1} and {num2} is {add(num1,num2)}\")\n",
    "        elif choice==\"2\":  \n",
    "            print(f\"The subtraction of {num1} and {num2} is {sub(num1,num2)}\")\n",
    "        elif choice==\"3\":\n",
    "            print(f\"The Multiplication of {num1} and {num2} is {mul(num1,num2)}\")\n",
    "        elif choice==\"4\":\n",
    "            print(f\"The Division of {num1} and {num2} is {div(num1,num2)}\")\n",
    "\n",
    "        next_calculation = input(\"Do you want to perform more operations ? (Yes/No)\")\n",
    "        if next_calculation == \"No\":\n",
    "            print(\"Thank you for using calculator\")\n",
    "            break\n",
    "    else:\n",
    "        print(\"Invalid Input \")"
   ]
  },
  {
   "cell_type": "code",
   "execution_count": null,
   "id": "52eecf95-c95e-4647-b2fb-1652798fd6d9",
   "metadata": {},
   "outputs": [],
   "source": []
  }
 ],
 "metadata": {
  "kernelspec": {
   "display_name": "Python 3 (ipykernel)",
   "language": "python",
   "name": "python3"
  },
  "language_info": {
   "codemirror_mode": {
    "name": "ipython",
    "version": 3
   },
   "file_extension": ".py",
   "mimetype": "text/x-python",
   "name": "python",
   "nbconvert_exporter": "python",
   "pygments_lexer": "ipython3",
   "version": "3.12.4"
  }
 },
 "nbformat": 4,
 "nbformat_minor": 5
}
